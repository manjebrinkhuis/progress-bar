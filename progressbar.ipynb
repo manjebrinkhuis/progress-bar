{
 "cells": [
  {
   "cell_type": "code",
   "execution_count": 1,
   "metadata": {},
   "outputs": [],
   "source": [
    "from progressbar import ProgressBar\n",
    "import time"
   ]
  },
  {
   "cell_type": "code",
   "execution_count": 3,
   "metadata": {},
   "outputs": [
    {
     "name": "stdout",
     "output_type": "stream",
     "text": [
      "Progress: [----->     ] 55.556%, elapsed: 0:00:05 , remaining: 0:00:05 We're halfway! 5 seconds to go...                                      \n",
      "Progress: [---------->] 100.000%, elapsed: 0:00:09 , remaining: 0:00:01 ✓\n"
     ]
    }
   ],
   "source": [
    "seconds = 10\n",
    "\n",
    "# Create a progress bar\n",
    "p = ProgressBar(total=seconds, width=10)\n",
    "\n",
    "for i in range(seconds):\n",
    "    \n",
    "    # Update and draw the bar\n",
    "    p.update(i)\n",
    "    p.draw()\n",
    "    if i == 5:\n",
    "        # Output a message\n",
    "        p.message(\"We're halfway! 5 seconds to go...\")\n",
    "    \n",
    "    # Do something useful\n",
    "    time.sleep(1)\n",
    "\n",
    "# Mark process as done.\n",
    "p.end()"
   ]
  }
 ],
 "metadata": {
  "kernelspec": {
   "display_name": "istopmm_py3",
   "language": "python",
   "name": "istopmm_py3"
  },
  "language_info": {
   "codemirror_mode": {
    "name": "ipython",
    "version": 3
   },
   "file_extension": ".py",
   "mimetype": "text/x-python",
   "name": "python",
   "nbconvert_exporter": "python",
   "pygments_lexer": "ipython3",
   "version": "3.6.6"
  }
 },
 "nbformat": 4,
 "nbformat_minor": 2
}
